{
 "cells": [
  {
   "cell_type": "code",
   "execution_count": 2,
   "metadata": {},
   "outputs": [],
   "source": [
    "import urllib\n",
    "import os\n",
    "import math\n",
    "from bs4 import BeautifulSoup as BS\n",
    "import re\n",
    "import psycopg2 as pg"
   ]
  },
  {
   "cell_type": "code",
   "execution_count": null,
   "metadata": {
    "scrolled": true
   },
   "outputs": [],
   "source": [
    "def create_dir(path):\n",
    "    if not os.path.exists(path):\n",
    "        os.mkdir(path)\n",
    "        \n",
    "def get_links(topic_link, num): # Возвращает ссылки статей подраздела\n",
    "    pages = math.ceil(num/20)\n",
    "    links = []\n",
    "    for page in range(pages):\n",
    "        content = BS(urllib.request.urlopen(f'https://cyberleninka.ru{topic_link}/{page+1}').read(), 'html.parser')\n",
    "        for article in content.body.find_all('li'):\n",
    "            for link in article.find_all('a'):\n",
    "                if (re.match('/article/n', link['href'])):\n",
    "                    links.append(link['href'])\n",
    "    return links[0:num]\n",
    "\n",
    "site_url = \"https://cyberleninka.ru\"\n",
    "dir_root = \"D:\\\\БИБЛИОТЕКА\\\\\"\n",
    "num_articles = 150 # Кол-во статей из одного раздела\n",
    "\n",
    "main_page = BS(urllib.request.urlopen(site_url).read(), 'html.parser')\n",
    "for letter in main_page.find_all('li', 'letter'): # Идём по разделам\n",
    "    dir_letter = os.path.join(dir_root, '{}'.format(re.sub('^\\W*', '', letter.get_text())))\n",
    "    create_dir(dir_letter)\n",
    "    \n",
    "    topics = []\n",
    "    for topic in letter.find_next_siblings(): # Идём по подразделам\n",
    "        if (not topic.has_attr('class')):\n",
    "            for a in topic.find_all('a'):\n",
    "                dir_topic = os.path.join(dir_letter, '{}'.format(re.sub('^\\W*', '', a.get_text())))\n",
    "                create_dir(dir_topic)\n",
    "                topics.append(a) # Ссылки на страницы со статьями подразделов\n",
    "        else:\n",
    "            break\n",
    "            \n",
    "    num_articles_on_topic = int(num_articles/len(topics)) # Кол-во статей на одну тему\n",
    "    for topic in topics: # Идём по ссылкам на подразделы\n",
    "        links = get_links(topic['href'], num_articles_on_topic)\n",
    "        n = 1\n",
    "        for link in links:\n",
    "            file = site_url + link + '/pdf'\n",
    "            name = link.split('/')[-1]\n",
    "            path = os.path.join(dir_root, '{}'.format(re.sub('^\\W*', '', letter.get_text())), '{}'.format(re.sub('^\\W*', '', topic.get_text())), name) + '.pdf'\n",
    "            if not os.path.exists(path):\n",
    "                urllib.request.urlretrieve(file, path)\n",
    "                print(f'DOWNLOADED:\\n{n}. {path}')\n",
    "            else:\n",
    "                print(f'FILE EXISTS:\\n{n}. {path}')\n",
    "            n+=1"
   ]
  },
  {
   "cell_type": "code",
   "execution_count": null,
   "metadata": {},
   "outputs": [],
   "source": [
    "sections = ['Гуманитарные науки', 'Естественные и точные науки', 'Медицинские науки', 'Сельскохозяйственные науки', 'Социальные науки', 'Техника и технологии']\n",
    "\n",
    "dir_train = os.path.join(dir_root, 'Обучающий набор')\n",
    "dir_test = os.path.join(dir_root, 'Тестовый набор')\n",
    "\n",
    "for s in sections:\n",
    "    os.rename(os.path.join(dir_root, s), os.path.join(dir_root, dir_train, s))"
   ]
  },
  {
   "cell_type": "code",
   "execution_count": null,
   "metadata": {},
   "outputs": [],
   "source": [
    "#paths_train = []\n",
    "#paths_test = []\n",
    "#num_articles = []\n",
    "test_proportion = 0.3\n",
    "\n",
    "for s in sections:\n",
    "    path = os.path.join(dir_root, dir_train, s)\n",
    "    num_topics = len(os.listdir(path))\n",
    "    for topic in os.listdir(os.path.join(dir_root, dir_train, s)):\n",
    "        path = os.path.join(dir_root, dir_train, s, topic)\n",
    "        num_articles = int(len(os.listdir(path)) * test_proportion)\n",
    "        for file in os.listdir(path)[0:num_articles]:\n",
    "            os.rename(os.path.join(path, file), os.path.join(dir_root, dir_test, s, topic, file))\n",
    "        #paths_train.append((os.path.join(dir_root, dir_train, s, topic), num_articles))\n",
    "        #paths_test.append(os.path.join(dir_root, dir_test, s, topic))\n",
    "        \n",
    "#for topic in paths_train:\n",
    "#    print(topic)\n",
    "#    for file in os.listdir(topic):\n",
    "#        print(file)"
   ]
  },
  {
   "cell_type": "code",
   "execution_count": 35,
   "metadata": {},
   "outputs": [],
   "source": [
    "sections = os.listdir('D:/БИБЛИОТЕКА/Обучающий набор/')\n",
    "topics = {}\n",
    "for section in sections:\n",
    "   topic_list = os.listdir(f'D:/БИБЛИОТЕКА/Обучающий набор/{section}')\n",
    "   topics[section] = topic_list\n",
    "\n",
    "num_labels = len(sections)\n",
    "\n",
    "section_map = {}\n",
    "for i in range(len(sections)):\n",
    "   section_map[i] = sections[i]"
   ]
  },
  {
   "cell_type": "code",
   "execution_count": 6,
   "metadata": {},
   "outputs": [],
   "source": [
    "def load_files(dataset, topics, section_map):\n",
    "   files_type = {'train': 'Обучающий набор',\n",
    "                 'test': 'Тестовый набор'}\n",
    "   if (dataset in files_type):\n",
    "       files = []\n",
    "       for i in section_map:\n",
    "           for topic in topics[section_map[i]]:\n",
    "               for file in os.listdir(f'D:/БИБЛИОТЕКА/{files_type[dataset]}/{section_map[i]}/{topic}'):\n",
    "                   files.append((f'D:/БИБЛИОТЕКА/{files_type[dataset]}/{section_map[i]}/{topic}/{file}', i))\n",
    "       return files\n",
    "   else:\n",
    "       print('Указан неверный тип данных в dataset')"
   ]
  },
  {
   "cell_type": "code",
   "execution_count": 21,
   "metadata": {},
   "outputs": [],
   "source": [
    "# cur.close()\n",
    "# conn.close()\n",
    "conn = pg.connect('dbname=articles user=postgres password=1234')\n",
    "cur = conn.cursor()"
   ]
  },
  {
   "cell_type": "code",
   "execution_count": 17,
   "metadata": {},
   "outputs": [],
   "source": [
    "cur.execute('CREATE TABLE classes (id integer PRIMARY KEY, class_name varchar(40) NOT NULL);')\n",
    "cur.execute('CREATE TABLE train (id serial PRIMARY KEY, link varchar(400) NOT NULL, class_id integer REFERENCES classes (id));')\n",
    "cur.execute('CREATE TABLE test (id serial PRIMARY KEY, link varchar(400) NOT NULL, class_id integer REFERENCES classes (id));')\n",
    "# cur.execute('DROP TABLE IF EXISTS classes;')\n",
    "# cur.execute('DROP TABLE IF EXISTS train;')\n",
    "# cur.execute('DROP TABLE IF EXISTS test;')"
   ]
  },
  {
   "cell_type": "code",
   "execution_count": 18,
   "metadata": {},
   "outputs": [],
   "source": [
    "train_files = load_files('train', topics, section_map)\n",
    "test_files = load_files('test', topics, section_map)"
   ]
  },
  {
   "cell_type": "code",
   "execution_count": 19,
   "metadata": {},
   "outputs": [],
   "source": [
    "for s in section_map:\n",
    "   cur.execute(f\"INSERT INTO classes(id, class_name) VALUES ({s}, '{section_map[s]}');\")\n",
    "\n",
    "for file in train_files:\n",
    "   cur.execute(f\"INSERT INTO train(link, class_id) VALUES('{file[0]}', {file[1]});\")\n",
    "   \n",
    "for file in test_files:\n",
    "   cur.execute(f\"INSERT INTO test(link, class_id) VALUES('{file[0]}', {file[1]});\")"
   ]
  },
  {
   "cell_type": "code",
   "execution_count": 20,
   "metadata": {},
   "outputs": [],
   "source": [
    "conn.commit()\n",
    "cur.close()\n",
    "conn.close()"
   ]
  }
 ],
 "metadata": {
  "kernelspec": {
   "display_name": "Python 3",
   "language": "python",
   "name": "python3"
  },
  "language_info": {
   "codemirror_mode": {
    "name": "ipython",
    "version": 3
   },
   "file_extension": ".py",
   "mimetype": "text/x-python",
   "name": "python",
   "nbconvert_exporter": "python",
   "pygments_lexer": "ipython3",
   "version": "3.9.12"
  }
 },
 "nbformat": 4,
 "nbformat_minor": 2
}
